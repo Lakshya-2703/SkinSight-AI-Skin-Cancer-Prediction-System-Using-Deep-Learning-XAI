{
  "cells": [
    {
      "cell_type": "code",
      "execution_count": null,
      "id": "b880d1ba",
      "metadata": {
        "id": "b880d1ba"
      },
      "outputs": [],
      "source": [
        "#Importing required libraries\n",
        "import matplotlib.pyplot as plt\n",
        "from PIL import Image\n",
        "import seaborn as sns\n",
        "import numpy as np\n",
        "import pandas as pd\n",
        "import os\n",
        "from tensorflow.keras.utils import to_categorical\n",
        "from glob import glob"
      ]
    },
    {
      "cell_type": "code",
      "execution_count": null,
      "id": "4ddd1e75",
      "metadata": {
        "colab": {
          "base_uri": "https://localhost:8080/",
          "height": 1000
        },
        "id": "4ddd1e75",
        "outputId": "5e5d042e-3c35-4ca8-9f23-3d6b57f951cd"
      },
      "outputs": [
        {
          "output_type": "error",
          "ename": "NameError",
          "evalue": "ignored",
          "traceback": [
            "\u001b[0;31m---------------------------------------------------------------------------\u001b[0m",
            "\u001b[0;31mNameError\u001b[0m                                 Traceback (most recent call last)",
            "\u001b[0;32m<ipython-input-1-9cc7cecb5f9c>\u001b[0m in \u001b[0;36m<cell line: 2>\u001b[0;34m()\u001b[0m\n\u001b[1;32m      1\u001b[0m \u001b[0;31m# Reading the data from HAM_metadata.csv\u001b[0m\u001b[0;34m\u001b[0m\u001b[0;34m\u001b[0m\u001b[0m\n\u001b[0;32m----> 2\u001b[0;31m \u001b[0mdf\u001b[0m \u001b[0;34m=\u001b[0m \u001b[0mpd\u001b[0m\u001b[0;34m.\u001b[0m\u001b[0mread_csv\u001b[0m\u001b[0;34m(\u001b[0m\u001b[0;34m'E:/skin disease/HAM10000_metadata.csv'\u001b[0m\u001b[0;34m)\u001b[0m\u001b[0;34m\u001b[0m\u001b[0;34m\u001b[0m\u001b[0m\n\u001b[0m",
            "\u001b[0;31mNameError\u001b[0m: name 'pd' is not defined"
          ]
        }
      ],
      "source": [
        "# Reading the data from HAM_metadata.csv\n",
        "df = pd.read_csv('E:/skin disease/HAM10000_metadata.csv')"
      ]
    },
    {
      "cell_type": "code",
      "execution_count": null,
      "id": "6b73a9c3",
      "metadata": {
        "id": "6b73a9c3"
      },
      "outputs": [],
      "source": [
        "df.head()"
      ]
    },
    {
      "cell_type": "code",
      "execution_count": null,
      "id": "539d00cc",
      "metadata": {
        "id": "539d00cc"
      },
      "outputs": [],
      "source": [
        "df.isnull().sum()"
      ]
    },
    {
      "cell_type": "code",
      "execution_count": null,
      "id": "45924df8",
      "metadata": {
        "id": "45924df8"
      },
      "outputs": [],
      "source": [
        "df['age'].fillna(int(df['age'].mean()),inplace=True)"
      ]
    },
    {
      "cell_type": "code",
      "execution_count": null,
      "id": "845ac447",
      "metadata": {
        "id": "845ac447"
      },
      "outputs": [],
      "source": [
        "df.isnull().sum()"
      ]
    },
    {
      "cell_type": "code",
      "execution_count": null,
      "id": "a26d8879",
      "metadata": {
        "id": "a26d8879"
      },
      "outputs": [],
      "source": [
        "lesion_type_dict = {\n",
        "    'nv': 'Melanocytic nevi',\n",
        "    'mel': 'Melanoma',\n",
        "    'bkl': 'Benign keratosis-like lesions ',\n",
        "    'bcc': 'Basal cell carcinoma',\n",
        "    'akiec': 'Actinic keratoses',\n",
        "    'vasc': 'Vascular lesions',\n",
        "    'df': 'Dermatofibroma'\n",
        "}\n",
        "base_skin_dir = 'E:/skin disease/'\n",
        "# Merge images from both folders into one dictionary\n",
        "\n",
        "imageid_path_dict = {os.path.splitext(os.path.basename(x))[0]: x\n",
        "                     for x in glob(os.path.join(base_skin_dir, '*', '*.jpg'))}"
      ]
    },
    {
      "cell_type": "code",
      "execution_count": null,
      "id": "fabef95d",
      "metadata": {
        "id": "fabef95d"
      },
      "outputs": [],
      "source": [
        "df['path'] = df['image_id'].map(imageid_path_dict.get)\n",
        "df['cell_type'] = df['dx'].map(lesion_type_dict.get)\n",
        "df['cell_type_idx'] = pd.Categorical(df['cell_type']).codes\n",
        "df.head()"
      ]
    },
    {
      "cell_type": "code",
      "execution_count": null,
      "id": "55f53fce",
      "metadata": {
        "id": "55f53fce"
      },
      "outputs": [],
      "source": [
        "df['image'] = df['path'].map(lambda x: np.asarray(Image.open(x).resize((125,100))))"
      ]
    },
    {
      "cell_type": "code",
      "execution_count": null,
      "id": "f9880afe",
      "metadata": {
        "id": "f9880afe"
      },
      "outputs": [],
      "source": [
        "n_samples = 5\n",
        "fig, m_axs = plt.subplots(7, n_samples, figsize = (4*n_samples, 3*7))\n",
        "for n_axs, (type_name, type_rows) in zip(m_axs,\n",
        "                                         df.sort_values(['cell_type']).groupby('cell_type')):\n",
        "    n_axs[0].set_title(type_name)\n",
        "    for c_ax, (_, c_row) in zip(n_axs, type_rows.sample(n_samples, random_state=2018).iterrows()):\n",
        "        c_ax.imshow(c_row['image'])\n",
        "        c_ax.axis('off')\n",
        "fig.savefig('category_samples.png', dpi=300)"
      ]
    },
    {
      "cell_type": "code",
      "execution_count": null,
      "id": "9de260b5",
      "metadata": {
        "scrolled": false,
        "id": "9de260b5"
      },
      "outputs": [],
      "source": [
        "# See the image size distribution - should just return one row (all images are uniform)\n",
        "df['image'].map(lambda x: x.shape).value_counts()"
      ]
    },
    {
      "cell_type": "markdown",
      "id": "80151948",
      "metadata": {
        "id": "80151948"
      },
      "source": [
        "# EDA"
      ]
    },
    {
      "cell_type": "code",
      "execution_count": null,
      "id": "855f6455",
      "metadata": {
        "id": "855f6455"
      },
      "outputs": [],
      "source": [
        "df= df[df['age'] != 0]\n",
        "df= df[df['sex'] != 'unknown']"
      ]
    },
    {
      "cell_type": "code",
      "execution_count": null,
      "id": "fa7a9bdc",
      "metadata": {
        "id": "fa7a9bdc"
      },
      "outputs": [],
      "source": [
        "plt.figure(figsize=(20,10))\n",
        "plt.subplots_adjust(left=0.125, bottom=1, right=0.9, top=2, hspace=0.2)\n",
        "plt.subplot(2,4,1)\n",
        "plt.title(\"AGE\",fontsize=15)\n",
        "plt.ylabel(\"Count\")\n",
        "df['age'].value_counts().plot.bar()\n",
        "\n",
        "plt.subplot(2,4,2)\n",
        "plt.title(\"GENDER\",fontsize=15)\n",
        "plt.ylabel(\"Count\")\n",
        "df['sex'].value_counts().plot.bar()\n",
        "\n",
        "plt.subplot(2,4,3)\n",
        "plt.title(\"localization\",fontsize=15)\n",
        "plt.ylabel(\"Count\")\n",
        "plt.xticks(rotation=45)\n",
        "df['localization'].value_counts().plot.bar()\n",
        "\n",
        "plt.subplot(2,4,4)\n",
        "plt.title(\"CELL TYPE\",fontsize=15)\n",
        "plt.ylabel(\"Count\")\n",
        "df['cell_type'].value_counts().plot.bar()"
      ]
    },
    {
      "cell_type": "code",
      "execution_count": null,
      "id": "49aa3d2d",
      "metadata": {
        "id": "49aa3d2d"
      },
      "outputs": [],
      "source": [
        "plt.figure(figsize=(15,10))\n",
        "plt.subplot(1,2,1)\n",
        "df['dx'].value_counts().plot.pie(autopct=\"%1.1f%%\")\n",
        "plt.subplot(1,2,2)\n",
        "df['dx_type'].value_counts().plot.pie(autopct=\"%1.1f%%\")\n",
        "plt.show()"
      ]
    },
    {
      "cell_type": "code",
      "execution_count": null,
      "id": "1cdd7260",
      "metadata": {
        "id": "1cdd7260"
      },
      "outputs": [],
      "source": [
        "plt.figure(figsize=(25,10))\n",
        "plt.title('LOCALIZATION VS GENDER',fontsize = 15)\n",
        "sns.countplot(y='localization', hue='sex',data=df)"
      ]
    },
    {
      "cell_type": "code",
      "execution_count": null,
      "id": "1825ff88",
      "metadata": {
        "id": "1825ff88"
      },
      "outputs": [],
      "source": [
        "plt.figure(figsize=(25,10))\n",
        "plt.title('LOCALIZATION VS CELL TYPE',fontsize = 15)\n",
        "sns.countplot(y='localization', hue='cell_type',data=df)"
      ]
    },
    {
      "cell_type": "code",
      "execution_count": null,
      "id": "33239fab",
      "metadata": {
        "id": "33239fab"
      },
      "outputs": [],
      "source": [
        "plt.figure(figsize=(25,10))\n",
        "plt.subplot(131)\n",
        "plt.title('AGE VS CELL TYPE',fontsize = 15)\n",
        "sns.countplot(y='age', hue='cell_type',data=df)\n",
        "plt.subplot(132)\n",
        "plt.title('GENDER VS CELL TYPE',fontsize = 15)\n",
        "sns.countplot(y='sex', hue='cell_type',data=df)"
      ]
    },
    {
      "cell_type": "markdown",
      "id": "271d3610",
      "metadata": {
        "id": "271d3610"
      },
      "source": [
        "# CNN"
      ]
    },
    {
      "cell_type": "code",
      "execution_count": null,
      "id": "6b0471d3",
      "metadata": {
        "id": "6b0471d3"
      },
      "outputs": [],
      "source": [
        "from sklearn.model_selection import train_test_split\n",
        "import keras\n",
        "from keras.models import Sequential\n",
        "from keras.layers import Dense, Dropout\n",
        "import tensorflow as tf\n",
        "from sklearn.preprocessing import StandardScaler\n",
        "from tensorflow.keras.layers import Flatten,Dense,Dropout,BatchNormalization,Conv2D, MaxPool2D\n",
        "from keras.optimizers import Adam\n",
        "from keras.callbacks import ReduceLROnPlateau\n",
        "from tensorflow.keras.preprocessing.image import ImageDataGenerator"
      ]
    },
    {
      "cell_type": "code",
      "execution_count": null,
      "id": "c90ed92a",
      "metadata": {
        "id": "c90ed92a"
      },
      "outputs": [],
      "source": [
        "features=df.drop(columns=['cell_type_idx'],axis=1)\n",
        "target=df['cell_type_idx']"
      ]
    },
    {
      "cell_type": "code",
      "execution_count": null,
      "id": "fe2c7f29",
      "metadata": {
        "id": "fe2c7f29"
      },
      "outputs": [],
      "source": [
        "features.head()"
      ]
    },
    {
      "cell_type": "code",
      "execution_count": null,
      "id": "a9c25e3d",
      "metadata": {
        "id": "a9c25e3d"
      },
      "outputs": [],
      "source": [
        "x_train_o, x_test_o, y_train_o, y_test_o = train_test_split(features, target, test_size=0.25,random_state=666)\n",
        "tf.unique(x_train_o.cell_type.values)"
      ]
    },
    {
      "cell_type": "code",
      "execution_count": null,
      "id": "c30ccfe7",
      "metadata": {
        "id": "c30ccfe7"
      },
      "outputs": [],
      "source": [
        "x_train = np.asarray(x_train_o['image'].tolist())\n",
        "x_test = np.asarray(x_test_o['image'].tolist())\n",
        "\n",
        "x_train_mean = np.mean(x_train)\n",
        "x_train_std = np.std(x_train)\n",
        "\n",
        "x_test_mean = np.mean(x_test)\n",
        "x_test_std = np.std(x_test)\n",
        "\n",
        "x_train = (x_train - x_train_mean)/x_train_std\n",
        "x_test = (x_test - x_test_mean)/x_test_std"
      ]
    },
    {
      "cell_type": "code",
      "execution_count": null,
      "id": "5d456c2f",
      "metadata": {
        "id": "5d456c2f"
      },
      "outputs": [],
      "source": [
        "# Perform one-hot encoding on the labels\n",
        "y_train = to_categorical(y_train_o, num_classes = 7)\n",
        "y_test = to_categorical(y_test_o, num_classes = 7)\n",
        "y_test"
      ]
    },
    {
      "cell_type": "code",
      "execution_count": null,
      "id": "0871094a",
      "metadata": {
        "id": "0871094a"
      },
      "outputs": [],
      "source": [
        "x_train, x_validate, y_train, y_validate = train_test_split(x_train, y_train, test_size = 0.1, random_state = 999)\n",
        "# Reshape image in 3 dimensions (height = 100, width = 125 , canal = 3)\n",
        "x_train = x_train.reshape(x_train.shape[0], *(100, 125, 3))\n",
        "x_test = x_test.reshape(x_test.shape[0], *(100, 125, 3))\n",
        "x_validate = x_validate.reshape(x_validate.shape[0], *(100, 125, 3))"
      ]
    },
    {
      "cell_type": "code",
      "execution_count": null,
      "id": "cd828fd6",
      "metadata": {
        "id": "cd828fd6"
      },
      "outputs": [],
      "source": [
        "x_train = x_train.reshape(6696,125*100*3)\n",
        "x_test = x_test.reshape(2481,125*100*3)\n",
        "print(x_train.shape)\n",
        "print(x_test.shape)"
      ]
    },
    {
      "cell_type": "code",
      "execution_count": null,
      "id": "461484ab",
      "metadata": {
        "id": "461484ab"
      },
      "outputs": [],
      "source": [
        "# Set the CNN model\n",
        "# my CNN architechture is In -> [[Conv2D->relu]*2 -> MaxPool2D -> Dropout]*3 -> Flatten -> Dense*2 -> Dropout -> Out\n",
        "input_shape = (100, 125, 3)\n",
        "num_classes = 7\n",
        "\n",
        "model = Sequential()\n",
        "model.add(Conv2D(32, kernel_size=(3, 3),activation='relu',padding = 'Same',input_shape=input_shape))\n",
        "model.add(Conv2D(32,kernel_size=(3, 3), activation='relu',padding = 'Same',))\n",
        "model.add(MaxPool2D(pool_size = (2, 2)))\n",
        "model.add(Dropout(0.16))\n",
        "\n",
        "model.add(Conv2D(32, kernel_size=(3, 3),activation='relu',padding = 'Same'))\n",
        "model.add(Conv2D(32,kernel_size=(3, 3), activation='relu',padding = 'Same',))\n",
        "model.add(MaxPool2D(pool_size = (2, 2)))\n",
        "model.add(Dropout(0.20))\n",
        "\n",
        "model.add(Conv2D(64, (3, 3), activation='relu',padding = 'same'))\n",
        "model.add(Conv2D(64, (3, 3), activation='relu',padding = 'Same'))\n",
        "model.add(MaxPool2D(pool_size=(2, 2)))\n",
        "model.add(Dropout(0.25))\n",
        "\n",
        "model.add(Flatten())\n",
        "model.add(Dense(256, activation='relu'))\n",
        "model.add(Dense(128, activation='relu'))\n",
        "model.add(Dropout(0.4))\n",
        "model.add(Dense(num_classes, activation='softmax'))\n",
        "model.summary()"
      ]
    },
    {
      "cell_type": "code",
      "execution_count": null,
      "id": "17806486",
      "metadata": {
        "id": "17806486"
      },
      "outputs": [],
      "source": [
        "# Define the optimizer\n",
        "optimizer = Adam(lr=0.0001, beta_1=0.9, beta_2=0.999, epsilon=None, decay=0.0, amsgrad=False)"
      ]
    },
    {
      "cell_type": "code",
      "execution_count": null,
      "id": "2ed32932",
      "metadata": {
        "id": "2ed32932"
      },
      "outputs": [],
      "source": [
        "# Compile the model\n",
        "model.compile(optimizer = optimizer , loss = \"categorical_crossentropy\", metrics=[\"accuracy\"])"
      ]
    },
    {
      "cell_type": "code",
      "execution_count": null,
      "id": "37d47e7c",
      "metadata": {
        "id": "37d47e7c"
      },
      "outputs": [],
      "source": [
        "# Set a learning rate annealer\n",
        "learning_rate_reduction = ReduceLROnPlateau(monitor='val_accuracy',\n",
        "                                            patience=4,\n",
        "                                            verbose=1,\n",
        "                                            factor=0.5,\n",
        "                                            min_lr=0.00001)"
      ]
    },
    {
      "cell_type": "code",
      "execution_count": null,
      "id": "091a70fa",
      "metadata": {
        "id": "091a70fa"
      },
      "outputs": [],
      "source": [
        "x_train, x_validate, y_train, y_validate = train_test_split(x_train, y_train, test_size = 0.1, random_state = 999)\n",
        "# Reshape image in 3 dimensions (height = 100, width = 125 , canal = 3)\n",
        "x_train = x_train.reshape(x_train.shape[0], *(100, 125, 3))\n",
        "x_test = x_test.reshape(x_test.shape[0], *(100, 125, 3))\n",
        "x_validate = x_validate.reshape(x_validate.shape[0], *(100, 125, 3))\n",
        "# With data augmentation to prevent overfitting\n",
        "\n",
        "datagen = ImageDataGenerator(\n",
        "        featurewise_center=False,  # set input mean to 0 over the dataset\n",
        "        samplewise_center=False,  # set each sample mean to 0\n",
        "        featurewise_std_normalization=False,  # divide inputs by std of the dataset\n",
        "        samplewise_std_normalization=False,  # divide each input by its std\n",
        "        zca_whitening=False,  # apply ZCA whitening\n",
        "        rotation_range=10,  # randomly rotate images in the range (degrees, 0 to 180)\n",
        "        zoom_range = 0.1, # Randomly zoom image\n",
        "        width_shift_range=0.12,  # randomly shift images horizontally (fraction of total width)\n",
        "        height_shift_range=0.12,  # randomly shift images vertically (fraction of total height)\n",
        "        horizontal_flip=True,  # randomly flip images\n",
        "        vertical_flip=True)  # randomly flip images\n",
        "\n",
        "datagen.fit(x_train)"
      ]
    },
    {
      "cell_type": "code",
      "execution_count": null,
      "id": "9e1b2d0b",
      "metadata": {
        "id": "9e1b2d0b"
      },
      "outputs": [],
      "source": [
        "# Fit the model\n",
        "epochs = 60\n",
        "batch_size = 16\n",
        "history = model.fit_generator(datagen.flow(x_train,y_train, batch_size=batch_size),\n",
        "                              epochs = epochs, validation_data = (x_validate,y_validate),\n",
        "                              verbose = 1, steps_per_epoch=x_train.shape[0] // batch_size\n",
        "                              , callbacks=[learning_rate_reduction])\n",
        "\n",
        "from tensorflow.keras.metrics import Recall\n",
        "from sklearn.metrics import classification_report,confusion_matrix"
      ]
    },
    {
      "cell_type": "code",
      "execution_count": null,
      "id": "bdc0ee7a",
      "metadata": {
        "id": "bdc0ee7a"
      },
      "outputs": [],
      "source": [
        "from keras.utils.vis_utils import plot_model\n",
        "plot_model(model, to_file='model_plot.png', show_shapes=True, show_layer_names=True)"
      ]
    },
    {
      "cell_type": "code",
      "execution_count": null,
      "id": "84f0ae46",
      "metadata": {
        "id": "84f0ae46"
      },
      "outputs": [],
      "source": [
        "loss, accuracy = model.evaluate(x_test, y_test, verbose=1)\n",
        "loss_v, accuracy_v = model.evaluate(x_validate, y_validate, verbose=1)\n",
        "print(\"Validation: accuracy = %f  ;  loss_v = %f\" % (accuracy_v, loss_v))\n",
        "print(\"Test: accuracy = %f  ;  loss = %f\" % (accuracy, loss))\n",
        "model.save(\"model.h5\")"
      ]
    },
    {
      "cell_type": "code",
      "execution_count": null,
      "id": "a6668263",
      "metadata": {
        "id": "a6668263"
      },
      "outputs": [],
      "source": [
        "import itertools\n",
        "# Function to plot confusion matrix\n",
        "def plot_confusion_matrix(cm, classes,\n",
        "                          normalize=False,\n",
        "                          title='Confusion matrix',\n",
        "                          cmap=plt.cm.Blues):\n",
        "    \"\"\"\n",
        "    This function prints and plots the confusion matrix.\n",
        "    Normalization can be applied by setting `normalize=True`.\n",
        "    \"\"\"\n",
        "    plt.imshow(cm, interpolation='nearest', cmap=cmap)\n",
        "    plt.title(title)\n",
        "    plt.colorbar()\n",
        "    tick_marks = np.arange(len(classes))\n",
        "    plt.xticks(tick_marks, classes, rotation=45)\n",
        "    plt.yticks(tick_marks, classes)\n",
        "\n",
        "    if normalize:\n",
        "        cm = cm.astype('float') / cm.sum(axis=1)[:, np.newaxis]\n",
        "\n",
        "    thresh = cm.max() / 2.\n",
        "    for i, j in itertools.product(range(cm.shape[0]), range(cm.shape[1])):\n",
        "        plt.text(j, i, cm[i, j],\n",
        "                 horizontalalignment=\"center\",\n",
        "                 color=\"white\" if cm[i, j] > thresh else \"black\")\n",
        "\n",
        "    plt.tight_layout()\n",
        "    plt.ylabel('True label')\n",
        "    plt.xlabel('Predicted label')\n",
        "\n",
        "# Predict the values from the validation dataset\n",
        "Y_pred = model.predict(x_validate)\n",
        "# Convert predictions classes to one hot vectors\n",
        "Y_pred_classes = np.argmax(Y_pred,axis = 1)\n",
        "# Convert validation observations to one hot vectors\n",
        "Y_true = np.argmax(y_validate,axis = 1)\n",
        "# compute the confusion matrix\n",
        "confusion_mtx = confusion_matrix(Y_true, Y_pred_classes)\n",
        "\n",
        "\n",
        "\n",
        "# plot the confusion matrix\n",
        "plot_confusion_matrix(confusion_mtx, classes = range(7))\n"
      ]
    },
    {
      "cell_type": "code",
      "execution_count": null,
      "id": "39df1196",
      "metadata": {
        "id": "39df1196"
      },
      "outputs": [],
      "source": [
        "# Predict the values from the validation dataset\n",
        "Y_pred = model.predict(x_test)\n",
        "# Convert predictions classes to one hot vectors\n",
        "Y_pred_classes = np.argmax(Y_pred,axis = 1)\n",
        "# Convert validation observations to one hot vectors\n",
        "Y_true = np.argmax(y_test,axis = 1)\n",
        "# compute the confusion matrix\n",
        "confusion_mtx = confusion_matrix(Y_true, Y_pred_classes)\n",
        "\n",
        "\n",
        "\n",
        "# plot the confusion matrix\n",
        "plot_confusion_matrix(confusion_mtx, classes = range(7))"
      ]
    },
    {
      "cell_type": "code",
      "execution_count": null,
      "id": "cb52bd6e",
      "metadata": {
        "id": "cb52bd6e"
      },
      "outputs": [],
      "source": [
        "label_frac_error = 1 - np.diag(confusion_mtx) / np.sum(confusion_mtx, axis=1)\n",
        "plt.bar(np.arange(7),label_frac_error)\n",
        "plt.xlabel('True Label')\n",
        "plt.ylabel('Fraction classified incorrectly')"
      ]
    },
    {
      "cell_type": "code",
      "execution_count": null,
      "id": "55a4d499",
      "metadata": {
        "id": "55a4d499"
      },
      "outputs": [],
      "source": [
        "accuracy = model.evaluate(x_test, y_test,verbose=1)[1]\n",
        "accuracy_v = model.evaluate(x_validate, y_validate)[1]\n",
        "print(\"Validation: accuracy = \", accuracy_v)\n",
        "print(\"Test: accuracy = \",accuracy)\n",
        "model.save(\"model.h5\")"
      ]
    },
    {
      "cell_type": "markdown",
      "id": "77f13946",
      "metadata": {
        "id": "77f13946"
      },
      "source": [
        "# XAI"
      ]
    },
    {
      "cell_type": "code",
      "execution_count": null,
      "id": "0434aab3",
      "metadata": {
        "id": "0434aab3"
      },
      "outputs": [],
      "source": [
        "tile_df = df.copy()"
      ]
    },
    {
      "cell_type": "code",
      "execution_count": null,
      "id": "f09440fa",
      "metadata": {
        "id": "f09440fa"
      },
      "outputs": [],
      "source": [
        "tile_df.drop('lesion_id', inplace=True, axis=1)\n",
        "tile_df.drop('image_id', inplace=True, axis=1)\n",
        "tile_df.drop('cell_type', inplace=True, axis=1)\n",
        "tile_df.drop('path', inplace=True, axis=1)\n",
        "tile_df.drop('dx', inplace=True, axis=1)\n",
        "tile_df.head()"
      ]
    },
    {
      "cell_type": "code",
      "execution_count": null,
      "id": "7a572018",
      "metadata": {
        "id": "7a572018"
      },
      "outputs": [],
      "source": [
        "X = tile_df.drop(['cell_type_idx'],axis=1).values\n",
        "y = tile_df['cell_type_idx'].values\n",
        "X_train,X_test,y_train,y_test = train_test_split(X,y,random_state=0)"
      ]
    },
    {
      "cell_type": "code",
      "execution_count": null,
      "id": "4db234c4",
      "metadata": {
        "id": "4db234c4"
      },
      "outputs": [],
      "source": [
        "!pip install alibi"
      ]
    },
    {
      "cell_type": "code",
      "execution_count": null,
      "id": "032b7cea",
      "metadata": {
        "id": "032b7cea"
      },
      "outputs": [],
      "source": [
        "pip install --upgrade scikit-learn"
      ]
    },
    {
      "cell_type": "code",
      "execution_count": null,
      "id": "1da3e912",
      "metadata": {
        "id": "1da3e912"
      },
      "outputs": [],
      "source": [
        "import shap\n",
        "shap.initjs()\n",
        "\n",
        "import matplotlib.pyplot as plt\n",
        "import numpy as np\n",
        "import pandas as pd\n",
        "\n",
        "from alibi.explainers import KernelShap\n",
        "from scipy.special import logit\n",
        "from sklearn.metrics import confusion_matrix\n",
        "from sklearn.model_selection import train_test_split\n",
        "from sklearn.preprocessing import StandardScaler\n",
        "from sklearn.linear_model import LogisticRegression"
      ]
    },
    {
      "cell_type": "code",
      "execution_count": null,
      "id": "b18b4a94",
      "metadata": {
        "id": "b18b4a94"
      },
      "outputs": [],
      "source": [
        "tile_df['localization_onehot'] = tile_df.localization.map({'scalp':0, 'ear':1, 'face':2, 'neck':3,'back':4, 'trunk':5, 'chest':6,\n",
        "       'upper extremity':7, 'abdomen':8, 'lower extremity':9,\n",
        "       'genital':10, 'hand':11, 'foot':12, 'acral':13, 'unknown':14})\n",
        "tile_df.head()"
      ]
    },
    {
      "cell_type": "code",
      "execution_count": null,
      "id": "011868fd",
      "metadata": {
        "id": "011868fd"
      },
      "outputs": [],
      "source": [
        "tile_df['dx_type_onehot'] = tile_df.dx_type.map({'confocal':0,'consensus':1,'follow_up':2,'histo':3})\n",
        "tile_df.head()"
      ]
    },
    {
      "cell_type": "code",
      "execution_count": null,
      "id": "9aead036",
      "metadata": {
        "id": "9aead036"
      },
      "outputs": [],
      "source": [
        "tile_df['gender_male'] = tile_df.sex.map({'female':0, 'male':1, 'unknown':2})\n",
        "tile_df.head()"
      ]
    },
    {
      "cell_type": "code",
      "execution_count": null,
      "id": "b20b0953",
      "metadata": {
        "id": "b20b0953"
      },
      "outputs": [],
      "source": [
        "tile_df.columns"
      ]
    },
    {
      "cell_type": "code",
      "execution_count": null,
      "id": "4175a2f4",
      "metadata": {
        "id": "4175a2f4"
      },
      "outputs": [],
      "source": [
        "features = ['age',  'localization_onehot', 'dx_type_onehot','gender_male']"
      ]
    },
    {
      "cell_type": "code",
      "execution_count": null,
      "id": "047f4f8e",
      "metadata": {
        "id": "047f4f8e"
      },
      "outputs": [],
      "source": [
        "X = tile_df[features]\n",
        "y = tile_df['cell_type_idx'].values\n",
        "X_train,X_test,y_train,y_test = train_test_split(X,y,random_state=0)"
      ]
    },
    {
      "cell_type": "code",
      "execution_count": null,
      "id": "d7bb1420",
      "metadata": {
        "id": "d7bb1420"
      },
      "outputs": [],
      "source": [
        "pip install xgboost"
      ]
    },
    {
      "cell_type": "code",
      "execution_count": null,
      "id": "06b86455",
      "metadata": {
        "scrolled": true,
        "id": "06b86455"
      },
      "outputs": [],
      "source": [
        "from xgboost import XGBClassifier\n",
        "from sklearn.ensemble import RandomForestClassifier"
      ]
    },
    {
      "cell_type": "code",
      "execution_count": null,
      "id": "76fb9b9c",
      "metadata": {
        "id": "76fb9b9c"
      },
      "outputs": [],
      "source": [
        "model = XGBClassifier(random_state=1)\n",
        "model = model.fit(X_train, y_train)"
      ]
    },
    {
      "cell_type": "code",
      "execution_count": null,
      "id": "d2999781",
      "metadata": {
        "id": "d2999781"
      },
      "outputs": [],
      "source": [
        "y_pred = model.predict(X_test)"
      ]
    },
    {
      "cell_type": "code",
      "execution_count": null,
      "id": "85f75b51",
      "metadata": {
        "id": "85f75b51"
      },
      "outputs": [],
      "source": [
        "predictions = [round(value) for value in y_pred]"
      ]
    },
    {
      "cell_type": "code",
      "execution_count": null,
      "id": "0146e9b9",
      "metadata": {
        "id": "0146e9b9"
      },
      "outputs": [],
      "source": [
        "from sklearn.metrics import accuracy_score\n",
        "accuracy = accuracy_score(y_test, predictions)\n",
        "print(\"Accuracy: %.2f%%\" % (accuracy * 100.0))"
      ]
    },
    {
      "cell_type": "markdown",
      "id": "9f1b3594",
      "metadata": {
        "id": "9f1b3594"
      },
      "source": [
        "# SHAP"
      ]
    },
    {
      "cell_type": "markdown",
      "id": "6b0bb2c8",
      "metadata": {
        "id": "6b0bb2c8"
      },
      "source": [
        "The goal of SHAP is to explain the prediction of an instance x by computing the contribution of each feature to the prediction. The SHAP explanation method computes Shapley values from coalitional theory.\n",
        "\n"
      ]
    },
    {
      "cell_type": "code",
      "execution_count": null,
      "id": "2c9ce464",
      "metadata": {
        "id": "2c9ce464"
      },
      "outputs": [],
      "source": [
        "explainer = shap.TreeExplainer(model)\n",
        "shap_values = explainer.shap_values(X_test)"
      ]
    },
    {
      "cell_type": "code",
      "execution_count": null,
      "id": "908a6ef3",
      "metadata": {
        "id": "908a6ef3"
      },
      "outputs": [],
      "source": [
        "print('Expected Value: ', explainer.expected_value)"
      ]
    },
    {
      "cell_type": "code",
      "execution_count": null,
      "id": "479bfedc",
      "metadata": {
        "scrolled": true,
        "id": "479bfedc"
      },
      "outputs": [],
      "source": [
        "shap.summary_plot(shap_values, X_test, plot_type=\"bar\")"
      ]
    },
    {
      "cell_type": "markdown",
      "id": "4c51c659",
      "metadata": {
        "id": "4c51c659"
      },
      "source": [
        "The feature importance plot, other than showing us which features are the most important, also show us which feature plays a major role in the prediction of which class. For example, we observe that the localization plays a major role in predicting whether the disease belongs to class 3. Similarly, dx_type_onehot plays a major role in predicting whether the disease belongs to class 1, 5, etc."
      ]
    },
    {
      "cell_type": "code",
      "execution_count": null,
      "id": "456cb9af",
      "metadata": {
        "scrolled": true,
        "id": "456cb9af"
      },
      "outputs": [],
      "source": [
        "shap.summary_plot(shap_values[0], X_test)"
      ]
    },
    {
      "cell_type": "markdown",
      "id": "f2108cb0",
      "metadata": {
        "id": "f2108cb0"
      },
      "source": [
        "From this summary plot, we observe the effect of the different values of each feature on the SHAP value, which is used for prediction. For example, we see that the higher values of dx_type_onehot (follow up and histopathology) are associated with a higher SHAP value."
      ]
    },
    {
      "cell_type": "code",
      "execution_count": null,
      "id": "5f6f62ec",
      "metadata": {
        "id": "5f6f62ec"
      },
      "outputs": [],
      "source": [
        "from sklearn.preprocessing import LabelEncoder\n",
        "\n",
        "## Preprocess training and test target (y) after having performed train-test split\n",
        "le = LabelEncoder()\n",
        "y_multi_train = pd.Series(le.fit_transform(y_train))\n",
        "y_multi_test = pd.Series(le.transform(y_test))\n",
        "\n",
        "## Check classes\n",
        "le.classes_"
      ]
    },
    {
      "cell_type": "code",
      "execution_count": null,
      "id": "7125b924",
      "metadata": {
        "scrolled": true,
        "id": "7125b924"
      },
      "outputs": [],
      "source": [
        "shap.initjs()\n",
        "shap.dependence_plot('dx_type_onehot', interaction_index='age',\n",
        "                     shap_values=shap_values[0],\n",
        "                     features=X_test,\n",
        "                     display_features=X_test)"
      ]
    },
    {
      "cell_type": "markdown",
      "id": "5d65cc4c",
      "metadata": {
        "id": "5d65cc4c"
      },
      "source": [
        "In this graph, the effect of dx_type_onehot at specific ages is seen on the SHAP value. In congruence to what we observed in the earlier graph, the higher the value for dx_type_onehot (expert consensus or confirmation by microscopy)"
      ]
    },
    {
      "cell_type": "code",
      "execution_count": null,
      "id": "c4b883dc",
      "metadata": {
        "id": "c4b883dc"
      },
      "outputs": [],
      "source": [
        "shap.initjs()\n",
        "shap.force_plot(explainer.expected_value[0], shap_values[0][:100,:], X_test.iloc[:100,:])"
      ]
    },
    {
      "cell_type": "code",
      "execution_count": null,
      "id": "5a8a4abe",
      "metadata": {
        "id": "5a8a4abe"
      },
      "outputs": [],
      "source": [
        "shap.initjs()\n",
        "shap.force_plot(explainer.expected_value[0], shap_values[0][15,:], X_test.iloc[15,:])"
      ]
    },
    {
      "cell_type": "markdown",
      "id": "84050851",
      "metadata": {
        "id": "84050851"
      },
      "source": [
        "Here, the force plot shows a local instance of the dataset. The localisation and type of diagnosis impact the prediction positively due to their positive SHAP value. On the other hand, the age and gender of the patient impacts the model negatively."
      ]
    },
    {
      "cell_type": "code",
      "execution_count": null,
      "id": "648f59b1",
      "metadata": {
        "id": "648f59b1"
      },
      "outputs": [],
      "source": []
    }
  ],
  "metadata": {
    "kernelspec": {
      "display_name": "Python 3 (ipykernel)",
      "language": "python",
      "name": "python3"
    },
    "language_info": {
      "codemirror_mode": {
        "name": "ipython",
        "version": 3
      },
      "file_extension": ".py",
      "mimetype": "text/x-python",
      "name": "python",
      "nbconvert_exporter": "python",
      "pygments_lexer": "ipython3",
      "version": "3.9.12"
    },
    "colab": {
      "provenance": []
    }
  },
  "nbformat": 4,
  "nbformat_minor": 5
}